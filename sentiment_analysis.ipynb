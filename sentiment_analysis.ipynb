{
  "nbformat": 4,
  "nbformat_minor": 0,
  "metadata": {
    "colab": {
      "provenance": []
    },
    "kernelspec": {
      "name": "python3",
      "display_name": "Python 3"
    },
    "language_info": {
      "name": "python"
    }
  },
  "cells": [
    {
      "cell_type": "code",
      "execution_count": 1,
      "metadata": {
        "colab": {
          "base_uri": "https://localhost:8080/"
        },
        "id": "OT_9PPFeDYvB",
        "outputId": "029f3932-0d4e-4555-a537-de0e79838185"
      },
      "outputs": [
        {
          "output_type": "stream",
          "name": "stderr",
          "text": [
            "[nltk_data] Downloading package punkt to /root/nltk_data...\n",
            "[nltk_data]   Unzipping tokenizers/punkt.zip.\n",
            "[nltk_data] Downloading package stopwords to /root/nltk_data...\n",
            "[nltk_data]   Unzipping corpora/stopwords.zip.\n",
            "[nltk_data] Downloading package wordnet to /root/nltk_data...\n"
          ]
        },
        {
          "output_type": "stream",
          "name": "stdout",
          "text": [
            "Accuracy: 0.0\n",
            "\n",
            "Reviews with Sentiment Analysis Result:\n",
            "Review: This product is great, Sentiment: positive\n"
          ]
        }
      ],
      "source": [
        "import nltk\n",
        "from nltk.corpus import stopwords\n",
        "from nltk.tokenize import word_tokenize\n",
        "from nltk.stem import WordNetLemmatizer\n",
        "from sklearn.feature_extraction.text import CountVectorizer\n",
        "from sklearn.model_selection import train_test_split\n",
        "from sklearn.naive_bayes import MultinomialNB\n",
        "from sklearn.metrics import accuracy_score\n",
        "\n",
        "# Download NLTK resources if not already downloaded\n",
        "nltk.download('punkt')\n",
        "nltk.download('stopwords')\n",
        "nltk.download('wordnet')\n",
        "\n",
        "# Example dataset\n",
        "reviews = [\n",
        "    (\"This product is great\", \"positive\"),\n",
        "    (\"Worst product ever\", \"negative\"),\n",
        "    (\"I love this product\", \"positive\"),\n",
        "    (\"Disappointed with the quality\", \"negative\")\n",
        "]\n",
        "\n",
        "# Preprocessing function\n",
        "def preprocess(text):\n",
        "    # Tokenization\n",
        "    tokens = word_tokenize(text.lower())\n",
        "    # Remove stopwords\n",
        "    stop_words = set(stopwords.words('english'))\n",
        "    filtered_tokens = [word for word in tokens if word not in stop_words]\n",
        "    # Lemmatization\n",
        "    lemmatizer = WordNetLemmatizer()\n",
        "    lemmatized_tokens = [lemmatizer.lemmatize(word) for word in filtered_tokens]\n",
        "    return ' '.join(lemmatized_tokens)\n",
        "\n",
        "# Preprocess reviews\n",
        "preprocessed_reviews = [(preprocess(text), sentiment) for text, sentiment in reviews]\n",
        "\n",
        "# Split dataset into features and labels\n",
        "X = [review[0] for review in preprocessed_reviews]\n",
        "y = [review[1] for review in preprocessed_reviews]\n",
        "\n",
        "# Vectorize features\n",
        "vectorizer = CountVectorizer()\n",
        "X_vectorized = vectorizer.fit_transform(X)\n",
        "\n",
        "# Split dataset into train and test sets\n",
        "X_train, X_test, y_train, y_test = train_test_split(X_vectorized, y, test_size=0.2, random_state=42)\n",
        "\n",
        "# Train Naive Bayes classifier\n",
        "classifier = MultinomialNB()\n",
        "classifier.fit(X_train, y_train)\n",
        "\n",
        "# Predict on test set\n",
        "y_pred = classifier.predict(X_test)\n",
        "\n",
        "# Evaluate model\n",
        "accuracy = accuracy_score(y_test, y_pred)\n",
        "print(\"Accuracy:\", accuracy)\n",
        "\n",
        "# Output reviews with sentiment analysis result\n",
        "print(\"\\nReviews with Sentiment Analysis Result:\")\n",
        "for review_text, sentiment in zip([review[0] for review in reviews], y_pred):\n",
        "    sentiment_label = \"positive\" if sentiment == 'positive' else \"negative\"\n",
        "    print(f\"Review: {review_text}, Sentiment: {sentiment_label}\")\n"
      ]
    }
  ]
}